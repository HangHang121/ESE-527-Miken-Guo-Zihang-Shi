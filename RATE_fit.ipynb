{
 "cells": [
  {
   "cell_type": "code",
   "execution_count": 1,
   "metadata": {
    "vscode": {
     "languageId": "r"
    }
   },
   "outputs": [
    {
     "name": "stderr",
     "output_type": "stream",
     "text": [
      "Warning message:\n",
      "\"package 'grf' was built under R version 4.0.5\"\n"
     ]
    }
   ],
   "source": [
    "library(\"grf\")\n",
    "library(policytree)"
   ]
  },
  {
   "cell_type": "code",
   "execution_count": 2,
   "metadata": {
    "vscode": {
     "languageId": "r"
    }
   },
   "outputs": [],
   "source": [
    "#' Estimate a Rank-Weighted Average Treatment Effect (RATE).\n",
    "#'\n",
    "#' Consider a rule S(Xi) assigning scores to units in decreasing order of treatment prioritization.\n",
    "#' In the case of a forest with binary treatment, we provide estimates of the following, where\n",
    "#' 1/n <= q <= 1 represents the fraction of treated units:\n",
    "#' \\itemize{\n",
    "#'   \\item The Rank-Weighted Average Treatment Effect (RATE):\n",
    "#'    \\eqn{\\int_{0}^{1} alpha(q) TOC(q; S) dq}, where alpha is a weighting method\n",
    "#'    corresponding to either `AUTOC` or `QINI`.\n",
    "#'   \\item The Targeting Operating Characteristic (TOC):\n",
    "#'     \\eqn{E[Y(1) - Y(0) | F(S(Xi)) >= 1 - q] - E[Y(1) - Y(0)]}, where F(.) is the distribution function of S(Xi).\n",
    "#' }\n",
    "#' The Targeting Operating Characteristic (TOC) is a curve comparing the benefit of treating only a certain\n",
    "#' fraction q of units (as prioritized by S(Xi)), to the overall average treatment effect.\n",
    "#' The Rank-Weighted Average Treatment Effect (RATE) is a weighted sum of this curve,\n",
    "#' and is a measure designed to identify prioritization rules that effectively targets treatment\n",
    "#' (and can thus be used to test for the presence of heterogeneous treatment effects).\n",
    "#'\n",
    "#' @param forest The evaluation set forest.\n",
    "#' @param priorities Treatment prioritization scores S(Xi) for the units used to train the evaluation forest.\n",
    "#'  Two prioritization rules can be compared by supplying a two-column array or named list of priorities.\n",
    "#'  WARNING: for valid statistical performance, these scores should be constructed independently from the evaluation\n",
    "#'  forest training data.\n",
    "#' @param target The type of RATE estimate, options are \"AUTOC\" (exhibits greater power when only a small subset\n",
    "#'  of the population experience nontrivial heterogeneous treatment effects) or \"QINI\" (exhibits greater power\n",
    "#'  when the entire population experience diffuse or substantial heterogeneous treatment effects).\n",
    "#'  Default is \"AUTOC\".\n",
    "#' @param q The grid q to compute the TOC curve on. Default is\n",
    "#'  (10\\%, 20\\%, ..., 100\\%).\n",
    "#' @param R Number of bootstrap replicates for SEs. Default is 200.\n",
    "#' @param subset Specifies subset of the training examples over which we\n",
    "#'               estimate the RATE. WARNING: For valid statistical performance,\n",
    "#'               the subset should be defined only using features Xi, not using\n",
    "#'               the treatment Wi or the outcome Yi.\n",
    "#' @param debiasing.weights A vector of length n (or the subset length) of debiasing weights.\n",
    "#'               If NULL (default) these are obtained via the appropriate doubly robust score\n",
    "#'               construction, e.g., in the case of causal_forests with a binary treatment, they\n",
    "#'               are obtained via inverse-propensity weighting.\n",
    "#' @param compliance.score Only used with instrumental forests. An estimate of the causal\n",
    "#'               effect of Z on W, i.e., Delta(X) = E[W | X, Z = 1] - E[W | X, Z = 0],\n",
    "#'               which can then be used to produce debiasing.weights. If not provided,\n",
    "#'               this is estimated via an auxiliary causal forest.\n",
    "#' @param num.trees.for.weights In some cases (e.g., with causal forests with a continuous\n",
    "#'               treatment), we need to train auxiliary forests to learn debiasing weights.\n",
    "#'               This is the number of trees used for this task. Note: this argument is only\n",
    "#'               used when debiasing.weights = NULL.\n",
    "#'\n",
    "#' @references Yadlowsky, Steve, Scott Fleming, Nigam Shah, Emma Brunskill, and Stefan Wager.\n",
    "#'  \"Evaluating Treatment Prioritization Rules via Rank-Weighted Average Treatment Effects.\"\n",
    "#'  arXiv preprint arXiv:2111.07966, 2021.\n",
    "#'\n",
    "#' @examples\n",
    "#' \\donttest{\n",
    "#' # Train a causal forest to estimate a CATE based priority ranking\n",
    "#' n <- 1500\n",
    "#' p <- 5\n",
    "#' X <- matrix(rnorm(n * p), n, p)\n",
    "#' W <- rbinom(n, 1, 0.5)\n",
    "#' event.prob <- 1 / (1 + exp(2*(pmax(2*X[, 1], 0) * W - X[, 2])))\n",
    "#' Y <- rbinom(n, 1, event.prob)\n",
    "#' train <- sample(1:n, n / 2)\n",
    "#' cf.priority <- causal_forest(X[train, ], Y[train], W[train])\n",
    "#'\n",
    "#' # Compute a prioritization based on estimated treatment effects.\n",
    "#' # -1: in this example the treatment should reduce the risk of an event occuring.\n",
    "#' priority.cate <- -1 * predict(cf.priority, X[-train, ])$predictions\n",
    "#'\n",
    "#' # Estimate AUTOC on held out data.\n",
    "#' cf.eval <- causal_forest(X[-train, ], Y[-train], W[-train])\n",
    "#' rate <- rank_average_treatment_effect(cf.eval, priority.cate)\n",
    "#' rate\n",
    "#'\n",
    "#' # Plot the Targeting Operator Characteristic curve.\n",
    "#' plot(rate)\n",
    "#'\n",
    "#' # Compute a prioritization based on baseline risk.\n",
    "#' rf.risk <- regression_forest(X[train[W[train] == 0], ], Y[train[W[train] == 0]])\n",
    "#' priority.risk <- predict(rf.risk, X[-train, ])$predictions\n",
    "#'\n",
    "#' # Test if two RATEs are equal.\n",
    "#' rate.diff <- rank_average_treatment_effect(cf.eval, cbind(priority.cate, priority.risk))\n",
    "#' rate.diff\n",
    "#'\n",
    "#' # Construct a 95 % confidence interval.\n",
    "#' # (a significant result suggests that there are HTEs and that the prioritization rule is effective\n",
    "#' # at stratifying the sample based on them. Conversely, a non-significant result suggests that either\n",
    "#' # there are no HTEs or the treatment prioritization rule does not predict them effectively.)\n",
    "#' rate.diff$estimate + data.frame(lower = -1.96 * rate.diff$std.err,\n",
    "#'                                 upper = 1.96 * rate.diff$std.err,\n",
    "#'                                 row.names = rate.diff$target)\n",
    "#' }\n",
    "#'\n",
    "#' @return A list of class `rank_average_treatment_effect` with elements \\itemize{\n",
    "#'  \\item estimate: the RATE estimate.\n",
    "#'  \\item std.err: bootstrapped standard error of RATE.\n",
    "#'  \\item target: the type of estimate.\n",
    "#'  \\item TOC: a data.frame with the Targeting Operator Characteristic curve\n",
    "#'    estimated on grid q, along with bootstrapped SEs.\n",
    "#' }\n",
    "#' @seealso \\code{\\link{rank_average_treatment_effect.fit}} for computing a RATE with user-supplied\n",
    "#'  doubly robust scores.\n",
    "#' @export\n",
    "rank_average_treatment_effect.fit <- function(DR.scores,\n",
    "                                              priorities,\n",
    "                                              target = c(\"AUTOC\", \"QINI\"),\n",
    "                                              q = seq(0.1, 1, by = 0.1),\n",
    "                                              R = 200,\n",
    "                                              sample.weights = NULL,\n",
    "                                              clusters = NULL) {\n",
    "  target <- match.arg(target)\n",
    "  if (anyNA(DR.scores)) {\n",
    "    stop(\"`DR.scores` contains missing values.\")\n",
    "  }\n",
    "  priorities <- as.data.frame(priorities, fix.empty.names = FALSE)\n",
    "  if (ncol(priorities) > 2) {\n",
    "    stop(\"`priorities` should be either a vector or a list/array with two rules.\")\n",
    "  }\n",
    "  if (anyNA(priorities)) {\n",
    "    stop(\"`priorities` contains missing values.\")\n",
    "  }\n",
    "  if (nrow(priorities) != length(DR.scores)) {\n",
    "    stop(\"`DR.scores` and `priorities` are not of same length.\")\n",
    "  }\n",
    "  empty.names <- colnames(priorities) == \"\"\n",
    "  colnames(priorities)[empty.names] <- c(\"priority1\", \"priority2\")[1:ncol(priorities)][empty.names]\n",
    "  priorities[,] <- lapply(priorities, function(x) as.integer(as.factor(x)))\n",
    "  if (is.null(clusters)) {\n",
    "    clusters <- 1:length(DR.scores)\n",
    "  } else if (length(clusters) != length(DR.scores) || anyNA(clusters)) {\n",
    "    stop(\"`clusters` has incorrect length.\")\n",
    "  } else {\n",
    "    clusters <- as.numeric(as.factor(clusters)) - 1\n",
    "  }\n",
    "  if (is.null(sample.weights)) {\n",
    "    sample.weights <- rep(1, length(DR.scores))\n",
    "  } else if (length(sample.weights) != length(DR.scores) || anyNA(sample.weights)) {\n",
    "    stop(\"`sample.weights` has incorrect length.\")\n",
    "  } else if (any(sample.weights <= 0)) {\n",
    "    stop(\"`sample.weights` should be > 0.\")\n",
    "  } else {\n",
    "    sample.weights <- sample.weights / sum(sample.weights)\n",
    "  }\n",
    "  if (is.unsorted(q, strictly = TRUE) || min(q) <= 0 || max(q) != 1) {\n",
    "    stop(\"`q` should correspond to a grid of fractions on the interval (0, 1].\")\n",
    "  }\n",
    "\n",
    "  # *** Compute the TOC and RATE ***\n",
    "\n",
    "  if (target == \"AUTOC\") {\n",
    "    wtd.mean <- function(x, w) sum(x * w) / sum(w)\n",
    "  } else if (target == \"QINI\") {\n",
    "    wtd.mean <- function(x, w) sum(cumsum(w) / sum(w) * w * x) / sum(w)\n",
    "  }\n",
    "\n",
    "  boot.output <- boot_grf(\n",
    "    data = data.frame(DR.scores * sample.weights, sample.weights, priorities),\n",
    "    # In case of two priorities do a paired bootstrap estimating both prios on same sample.\n",
    "    statistic = function(data, indices, q, wtd.mean)\n",
    "     lapply(c(4, 3)[1:ncol(priorities)], function(j) estimate_rate(data[, -j], indices, q, wtd.mean)),\n",
    "    R = R,\n",
    "    clusters = clusters,\n",
    "    half.sample = TRUE,\n",
    "    q = q,\n",
    "    wtd.mean = wtd.mean\n",
    "  )\n",
    "  dim(boot.output[[\"t\"]]) <- c(R, dim(boot.output[[\"t0\"]]))\n",
    "  point.estimate <- boot.output[[\"t0\"]]\n",
    "  std.errors <- apply(boot.output[[\"t\"]], c(2, 3), sd)\n",
    "  if (ncol(priorities) > 1) {\n",
    "    point.estimate <- cbind(point.estimate, point.estimate[, 1] - point.estimate[, 2])\n",
    "    std.errors <- cbind(std.errors, apply(boot.output[[\"t\"]][,, 1] - boot.output[[\"t\"]][,, 2], 2, sd))\n",
    "  }\n",
    "  point.estimate[abs(point.estimate) < 1e-15] <- 0\n",
    "  std.errors[abs(std.errors) < 1e-15] <- 0\n",
    "  if (R < 2) {\n",
    "    std.errors[] <- 0\n",
    "  }\n",
    "  priority <- c(colnames(priorities), paste(colnames(priorities), collapse = \" - \"))[1:length(point.estimate[1, ])]\n",
    "\n",
    "  output <- list()\n",
    "  class(output) <- \"rank_average_treatment_effect\"\n",
    "  output[[\"estimate\"]] <- point.estimate[1, ]\n",
    "  output[[\"std.err\"]] <- std.errors[1, ]\n",
    "  output[[\"target\"]] <- paste(priority, \"|\", target)\n",
    "  output[[\"TOC\"]] <- data.frame(estimate = c(point.estimate[-1, ]),\n",
    "                                std.err = c(std.errors[-1, ]),\n",
    "                                q = q,\n",
    "                                priority = priority[rep(1:length(priority), each = length(q))],\n",
    "                                stringsAsFactors = FALSE)\n",
    "\n",
    "  output\n",
    "}\n",
    "\n",
    "#' Compute rate estimates, a function to be passed on to bootstrap routine.\n",
    "#' @param data A data.frame with the original data, column 1: DR.scores*sample.weights, column 2: sample.weights (positive),\n",
    "#'  column 3: priority scores (integer vector with scores 1,...,num.unique.prios).\n",
    "#' @param indices A vector of indices which define the bootstrap sample.\n",
    "#' @param q A vector of fractions to compute TOC on, with last entry = 1.\n",
    "#' @param wtd.mean A weighting function determining the type of RATE estimate.\n",
    "#' @return an estimate of RATE, together with the TOC curve.\n",
    "#'\n",
    "#' @keywords internal\n",
    "estimate_rate <- function(data, indices, q, wtd.mean) {\n",
    "  # Let q be a fraction in (0, 1].\n",
    "  # we have 1) TOC(q; Sj) = 1/[qn] sum_{i=1}^{[qn]} Gamma_{i(j)} - ATE\n",
    "  # and 2) RATE = 1/n sum_{i=1}^{n} TOC(i/n; Sj)\n",
    "  # For bootstrapping the TOC curve, we fix q on some grid q'.\n",
    "  # For estimating the RATE we set 1/n <= q <= 1.\n",
    "  # Observations:\n",
    "  # a) the entire TOC curve can be computed as a cumulative sum of sorted DR.scores.\n",
    "  # b) taking ties into account amounts to using the average DR.scores within each\n",
    "  # tied group instead of the individual DR.scores.\n",
    "  # So the steps are:\n",
    "  # Compute average DR.scores by priority group in increasing order: DR.scores',\n",
    "  # repeat the possibly tied entries with the number of duplicates.\n",
    "  # Take the cumsum of this divided by ni to get the TOC curve. Take a (weighted) average\n",
    "  # of this to get RATE. This is what is being done below, using base R's fastest primitives for\n",
    "  # quick aggregation and grouping (using for example \"rowsum\"),\n",
    "  # To accomodate sample weights and arbitrary q', we allow for fractional use of observations\n",
    "  # when computing the TOC at user-specified grid points q'.\n",
    "  prio <- data[indices, 3]\n",
    "  sort.idx <- order(prio, decreasing = TRUE)\n",
    "  sample.weights <- data[indices, 2][sort.idx]\n",
    "\n",
    "  num.ties <- tabulate(prio) # count by rank in increasing order\n",
    "  num.ties <- num.ties[num.ties > 0] # ignore potential ranks not present in BS sample\n",
    "  # if continuous scoring then no need for ~slower aggregation\n",
    "  if (all(num.ties == 1)) {\n",
    "    DR.scores.sorted <- (data[indices, 1] / data[indices, 2])[sort.idx]\n",
    "  } else {\n",
    "    grp.sum <- rowsum(data[indices, 1:2][sort.idx, ], prio[sort.idx], reorder = FALSE)\n",
    "    DR.avg <- grp.sum[, 1] / grp.sum[, 2]\n",
    "    DR.scores.sorted <- rep.int(DR.avg, rev(num.ties))\n",
    "  }\n",
    "  sample.weights.cumsum <- cumsum(sample.weights)\n",
    "  sample.weights.sum <- sample.weights.cumsum[length(sample.weights)]\n",
    "  ATE <- sum(DR.scores.sorted * sample.weights) / sample.weights.sum\n",
    "  TOC <- cumsum(DR.scores.sorted * sample.weights) / sample.weights.cumsum - ATE\n",
    "  RATE <- wtd.mean(TOC, sample.weights)\n",
    "\n",
    "  nw <- q * sample.weights.sum\n",
    "  idx <- findInterval(nw + 1e-15, sample.weights.cumsum) # epsilon tol. since finite precision may cause not equal\n",
    "  denominator.adj <- nw - sample.weights.cumsum[pmax(idx, 1)] # \\sum weight remainder, zero when no fractional obs. needed\n",
    "  numerator.adj <- denominator.adj * DR.scores.sorted[pmin(idx + 1, max(idx))]\n",
    "  idx[idx == 0] <- 1\n",
    "  uniq.idx <- unique(idx)\n",
    "  grid.id <- rep.int(seq_along(uniq.idx), c(uniq.idx[1], diff(uniq.idx)))\n",
    "  DR.scores.grid <- rowsum(cbind(DR.scores.sorted * sample.weights, sample.weights), grid.id, reorder = FALSE)\n",
    "  TOC.grid <- (cumsum(DR.scores.grid[, 1])[grid.id[idx]] + numerator.adj) /\n",
    "              (cumsum(DR.scores.grid[, 2])[grid.id[idx]] + denominator.adj) - ATE\n",
    "\n",
    "  c(RATE, TOC.grid, use.names = FALSE)\n",
    "}\n",
    "\n",
    "#' Simple clustered bootstrap.\n",
    "#'\n",
    "#' Inspired by the `boot` function in the bootstrap package with clusters + half-sampling added.\n",
    "#' A future TODO could be to add parallel (not necessarily worth it)\n",
    "#' https://stat.ethz.ch/R-manual/R-devel/library/parallel/doc/parallel.pdf\n",
    "#'\n",
    "#' @param data A data frame with the original data.\n",
    "#' @param statistic A function computing estimate(s) with signature (data, indices, ...) where\n",
    "#' data is the original data, and indices a vector which defines the bootstrap sample.\n",
    "#' @param R The number of bootstrap replications.\n",
    "#' @param clusters Integer vector of cluster assignment, setting to 1:N corresponds to an ordinary\n",
    "#'  unclustered bootstrap.\n",
    "#' @param half.sample Whether to do half sample bootstrap (half the clusters are drawn). Default is TRUE.\n",
    "#' @param ... Additional arguments passed on to statistic.\n",
    "#' @return A list with the original estimate t0, and bootstrap estimates t.\n",
    "#'\n",
    "#' @references Angelo Canty and Brian Ripley (2021). boot: Bootstrap R (S-Plus) Functions.\n",
    "#'\n",
    "#' @keywords internal\n",
    "boot_grf <- function(data, statistic, R, clusters, half.sample = TRUE, ...) {\n",
    "  samples.by.cluster <- split(seq_along(clusters), clusters)\n",
    "  n <- length(samples.by.cluster) # number of clusters\n",
    "  if (n <= 1 || (half.sample && floor(n / 2) <= 1)) {\n",
    "    stop(\"Cannot bootstrap sample with only one effective unit.\")\n",
    "  }\n",
    "  if (half.sample) {\n",
    "    n.bs <- floor(n / 2)\n",
    "    index.list <- replicate(R, unlist(samples.by.cluster[sample.int(n, n.bs, replace = FALSE)], use.names = FALSE), simplify = FALSE)\n",
    "  } else {\n",
    "    index.list <- replicate(R, unlist(samples.by.cluster[sample.int(n, replace = TRUE)], use.names = FALSE), simplify = FALSE)\n",
    "  }\n",
    "\n",
    "  t0 <- statistic(data, seq_len(NROW(data)), ...)\n",
    "  t0 <- matrix(unlist(t0), ncol = length(t0))\n",
    "\n",
    "  res <- lapply(seq_len(R), function(i) statistic(data, index.list[[i]], ...))\n",
    "  t <- matrix(, R, length(t0))\n",
    "  for (r in seq_len(R)) {\n",
    "    t[r, ] <- unlist(res[[r]])\n",
    "  }\n",
    "\n",
    "  list(t0 = t0, t = t)\n",
    "}\n",
    "\n"
   ]
  },
  {
   "cell_type": "code",
   "execution_count": 14,
   "metadata": {
    "vscode": {
     "languageId": "r"
    }
   },
   "outputs": [],
   "source": [
    "CATE_train <- read.csv(file=\"C:\\\\Users\\\\user\\\\Desktop\\\\Thesis\\\\CATE_estimation_Y2_new2.csv\")\n",
    "CATE_validation <- read.csv(file=\"C:\\\\Users\\\\user\\\\Desktop\\\\Thesis\\\\CATE_validation_Y2.csv\")\n",
    "IV_train <- read.csv(file=\"C:\\\\Users\\\\user\\\\Desktop\\\\Thesis\\\\IV_train_pred.csv\")\n",
    "IV_validation <- read.csv(file=\"C:\\\\Users\\\\user\\\\Desktop\\\\Thesis\\\\IV_valid_pred.csv\")\n",
    "DR_scores <- read.csv(file=\"C:\\\\Users\\\\user\\\\Desktop\\\\Thesis\\\\Scores.csv\")\n",
    "DR_scores2<- read.csv(file=\"C:\\\\Users\\\\user\\\\Desktop\\\\Thesis\\\\Scores2.csv\")\n",
    "DR_scores_train<- read.csv(file=\"C:\\\\Users\\\\user\\\\Desktop\\\\Thesis\\\\Scores_train.csv\")\n",
    "\n",
    "DR_policy<-read.csv(file=\"C:\\\\Users\\\\user\\\\Desktop\\\\Thesis\\\\policy_DR_score.csv\")\n",
    "Risk <- read.csv(file=\"C:\\\\Users\\\\user\\\\Desktop\\\\Thesis\\\\Risk.csv\")\n",
    "policy <- read.csv(file=\"C:\\\\Users\\\\user\\\\Desktop\\\\Thesis\\\\policy_pred_discrete.csv\")\n",
    "policy <- read.csv(file=\"C:\\\\Users\\\\user\\\\Desktop\\\\Thesis\\\\policy_pred_new.csv\")"
   ]
  },
  {
   "cell_type": "code",
   "execution_count": 59,
   "metadata": {
    "vscode": {
     "languageId": "r"
    }
   },
   "outputs": [],
   "source": [
    "rate <- rank_average_treatment_effect.fit(DR_scores2$Scores, runif(44812),target = 'AUTOC',R=1000)"
   ]
  },
  {
   "cell_type": "code",
   "execution_count": 57,
   "metadata": {
    "vscode": {
     "languageId": "r"
    }
   },
   "outputs": [
    {
     "data": {
      "text/plain": [
       "    estimate     std.err             target\n",
       " -0.01144106 0.006089176 priorities | AUTOC"
      ]
     },
     "metadata": {},
     "output_type": "display_data"
    }
   ],
   "source": [
    "rate"
   ]
  },
  {
   "cell_type": "code",
   "execution_count": 60,
   "metadata": {
    "vscode": {
     "languageId": "r"
    }
   },
   "outputs": [
    {
     "data": {
      "image/png": "[encoded data removed]",
      "text/plain": [
       "Plot with title \"Targeting Operator Characteristic\""
      ]
     },
     "metadata": {
      "image/png": {
       "height": 420,
       "width": 420
      }
     },
     "output_type": "display_data"
    }
   ],
   "source": [
    "plot(rate)"
   ]
  },
  {
   "cell_type": "code",
   "execution_count": 32,
   "metadata": {
    "vscode": {
     "languageId": "r"
    }
   },
   "outputs": [
    {
     "data": {
      "text/html": [
       "<table class=\"dataframe\">\n",
       "<caption>A data.frame: 10 × 4</caption>\n",
       "<thead>\n",
       "\t<tr><th scope=col>estimate</th><th scope=col>std.err</th><th scope=col>q</th><th scope=col>priority</th></tr>\n",
       "\t<tr><th scope=col>&lt;dbl&gt;</th><th scope=col>&lt;dbl&gt;</th><th scope=col>&lt;dbl&gt;</th><th scope=col>&lt;chr&gt;</th></tr>\n",
       "</thead>\n",
       "<tbody>\n",
       "\t<tr><td>-5.451505e-01</td><td>2.493213e-02</td><td>0.1</td><td>priorities</td></tr>\n",
       "\t<tr><td>-3.772706e-01</td><td>1.681016e-02</td><td>0.2</td><td>priorities</td></tr>\n",
       "\t<tr><td>-2.424652e-01</td><td>1.355368e-02</td><td>0.3</td><td>priorities</td></tr>\n",
       "\t<tr><td>-1.002279e-01</td><td>1.038875e-02</td><td>0.4</td><td>priorities</td></tr>\n",
       "\t<tr><td>-4.227846e-02</td><td>7.208317e-03</td><td>0.5</td><td>priorities</td></tr>\n",
       "\t<tr><td>-3.697962e-02</td><td>4.928804e-03</td><td>0.6</td><td>priorities</td></tr>\n",
       "\t<tr><td>-2.738103e-02</td><td>3.199959e-03</td><td>0.7</td><td>priorities</td></tr>\n",
       "\t<tr><td>-1.395728e-02</td><td>1.901905e-03</td><td>0.8</td><td>priorities</td></tr>\n",
       "\t<tr><td>-6.203234e-03</td><td>8.452913e-04</td><td>0.9</td><td>priorities</td></tr>\n",
       "\t<tr><td>-2.319325e-15</td><td>1.417358e-15</td><td>1.0</td><td>priorities</td></tr>\n",
       "</tbody>\n",
       "</table>\n"
      ],
      "text/latex": [
       "A data.frame: 10 × 4\n",
       "\\begin{tabular}{llll}\n",
       " estimate & std.err & q & priority\\\\\n",
       " <dbl> & <dbl> & <dbl> & <chr>\\\\\n",
       "\\hline\n",
       "\t -5.451505e-01 & 2.493213e-02 & 0.1 & priorities\\\\\n",
       "\t -3.772706e-01 & 1.681016e-02 & 0.2 & priorities\\\\\n",
       "\t -2.424652e-01 & 1.355368e-02 & 0.3 & priorities\\\\\n",
       "\t -1.002279e-01 & 1.038875e-02 & 0.4 & priorities\\\\\n",
       "\t -4.227846e-02 & 7.208317e-03 & 0.5 & priorities\\\\\n",
       "\t -3.697962e-02 & 4.928804e-03 & 0.6 & priorities\\\\\n",
       "\t -2.738103e-02 & 3.199959e-03 & 0.7 & priorities\\\\\n",
       "\t -1.395728e-02 & 1.901905e-03 & 0.8 & priorities\\\\\n",
       "\t -6.203234e-03 & 8.452913e-04 & 0.9 & priorities\\\\\n",
       "\t -2.319325e-15 & 1.417358e-15 & 1.0 & priorities\\\\\n",
       "\\end{tabular}\n"
      ],
      "text/markdown": [
       "\n",
       "A data.frame: 10 × 4\n",
       "\n",
       "| estimate &lt;dbl&gt; | std.err &lt;dbl&gt; | q &lt;dbl&gt; | priority &lt;chr&gt; |\n",
       "|---|---|---|---|\n",
       "| -5.451505e-01 | 2.493213e-02 | 0.1 | priorities |\n",
       "| -3.772706e-01 | 1.681016e-02 | 0.2 | priorities |\n",
       "| -2.424652e-01 | 1.355368e-02 | 0.3 | priorities |\n",
       "| -1.002279e-01 | 1.038875e-02 | 0.4 | priorities |\n",
       "| -4.227846e-02 | 7.208317e-03 | 0.5 | priorities |\n",
       "| -3.697962e-02 | 4.928804e-03 | 0.6 | priorities |\n",
       "| -2.738103e-02 | 3.199959e-03 | 0.7 | priorities |\n",
       "| -1.395728e-02 | 1.901905e-03 | 0.8 | priorities |\n",
       "| -6.203234e-03 | 8.452913e-04 | 0.9 | priorities |\n",
       "| -2.319325e-15 | 1.417358e-15 | 1.0 | priorities |\n",
       "\n"
      ],
      "text/plain": [
       "   estimate      std.err      q   priority  \n",
       "1  -5.451505e-01 2.493213e-02 0.1 priorities\n",
       "2  -3.772706e-01 1.681016e-02 0.2 priorities\n",
       "3  -2.424652e-01 1.355368e-02 0.3 priorities\n",
       "4  -1.002279e-01 1.038875e-02 0.4 priorities\n",
       "5  -4.227846e-02 7.208317e-03 0.5 priorities\n",
       "6  -3.697962e-02 4.928804e-03 0.6 priorities\n",
       "7  -2.738103e-02 3.199959e-03 0.7 priorities\n",
       "8  -1.395728e-02 1.901905e-03 0.8 priorities\n",
       "9  -6.203234e-03 8.452913e-04 0.9 priorities\n",
       "10 -2.319325e-15 1.417358e-15 1.0 priorities"
      ]
     },
     "metadata": {},
     "output_type": "display_data"
    }
   ],
   "source": [
    "rate$TOC"
   ]
  }
 ],
 "metadata": {
  "kernelspec": {
   "display_name": "R",
   "language": "R",
   "name": "ir"
  },
  "language_info": {
   "codemirror_mode": "r",
   "file_extension": ".r",
   "mimetype": "text/x-r-source",
   "name": "R",
   "pygments_lexer": "r",
   "version": "4.0.2"
  },
  "orig_nbformat": 4
 },
 "nbformat": 4,
 "nbformat_minor": 2
}
