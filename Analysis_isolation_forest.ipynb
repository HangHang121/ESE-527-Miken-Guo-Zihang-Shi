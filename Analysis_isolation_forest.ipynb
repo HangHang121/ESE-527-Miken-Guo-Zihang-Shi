{
 "cells": [
  {
   "cell_type": "markdown",
   "metadata": {},
   "source": [
    "# Classify Expired Patients using Outlier Detection\n",
    "\n",
    "In our analysis of the MIMIC-III dataset, we observed a significant imbalance in the target variable. Patients who expired within 30 days (indicated by EXPIRE\\_FLAG\\_30D=1) constituted only 9.4\\% of our study population. This imbalance poses challenges for predictive modeling, as standard classifiers may become biased towards the majority class, leading to poor detection of the minority class. To mitigate this issue, we explored the idea of detecting expired patients as outliers within the data distribution. The underlying assumption was that patients who expired within 30 days might exhibit unusual patterns or feature values compared to the surviving patients. By treating them as anomalies, we aimed to identify these patients using unsupervised outlier detection methods.\n"
   ]
  },
  {
   "cell_type": "code",
   "execution_count": 32,
   "metadata": {},
   "outputs": [],
   "source": [
    "import pandas as pd\n",
    "from sklearn.model_selection import train_test_split\n",
    "\n",
    "from sklearn.ensemble import IsolationForest\n",
    "from sklearn.metrics import matthews_corrcoef\n",
    "from sklearn.metrics import classification_report"
   ]
  },
  {
   "cell_type": "code",
   "execution_count": 28,
   "metadata": {},
   "outputs": [],
   "source": [
    "data=pd.read_csv(\"all_patients_data_cleaned.csv\")\n",
    "data=data.drop(columns=[\"SUBJECT_ID\",\"HADM_ID\",\"ICUSTAY_ID\"\t,\"LOS_HOSPITAL\",\"LOS_ICU\",\"HOSPITAL_EXPIRE_FLAG\"])"
   ]
  },
  {
   "cell_type": "code",
   "execution_count": 20,
   "metadata": {},
   "outputs": [],
   "source": [
    "from sklearn.preprocessing import StandardScaler\n",
    "\n",
    "train_data=data.drop(columns=[\"EXPIRE_FLAG_30D\"])\n",
    "train_data=StandardScaler(with_std=True).fit_transform(train_data)\n",
    "train_label=data[\"EXPIRE_FLAG_30D\"]"
   ]
  },
  {
   "cell_type": "markdown",
   "metadata": {},
   "source": [
    "# Isolation Forest"
   ]
  },
  {
   "cell_type": "code",
   "execution_count": 27,
   "metadata": {},
   "outputs": [
    {
     "name": "stdout",
     "output_type": "stream",
     "text": [
      "-0.11718182932076321\n",
      "              precision    recall  f1-score   support\n",
      "\n",
      "           0       0.75      0.04      0.08     12702\n",
      "           1       0.09      0.87      0.16      1321\n",
      "\n",
      "    accuracy                           0.12     14023\n",
      "   macro avg       0.42      0.46      0.12     14023\n",
      "weighted avg       0.69      0.12      0.08     14023\n",
      "\n"
     ]
    }
   ],
   "source": [
    "clf = IsolationForest(random_state=505,max_features=0.5,bootstrap=True,n_estimators=1000).fit(train_data)\n",
    "y_pred=clf.predict(train_data)\n",
    "# y_pred=(y_pred<np.percentile(y_pred,0.9))\n",
    "y_pred=(y_pred==1)\n",
    "print(matthews_corrcoef(train_label,y_pred))\n",
    "print(classification_report(train_label,y_pred))"
   ]
  },
  {
   "cell_type": "markdown",
   "metadata": {},
   "source": [
    "# One Class SVM"
   ]
  },
  {
   "cell_type": "code",
   "execution_count": 9,
   "metadata": {},
   "outputs": [],
   "source": [
    "from sklearn.svm import OneClassSVM"
   ]
  },
  {
   "cell_type": "code",
   "execution_count": 22,
   "metadata": {},
   "outputs": [
    {
     "name": "stdout",
     "output_type": "stream",
     "text": [
      "-0.13120446874072692\n",
      "              precision    recall  f1-score   support\n",
      "\n",
      "           0       0.79      0.09      0.16     12702\n",
      "           1       0.08      0.78      0.15      1321\n",
      "\n",
      "    accuracy                           0.15     14023\n",
      "   macro avg       0.44      0.43      0.15     14023\n",
      "weighted avg       0.72      0.15      0.16     14023\n",
      "\n"
     ]
    }
   ],
   "source": [
    "SVM_outlier_clf=OneClassSVM(nu=0.1)\n",
    "SVM_outlier_clf.fit(train_data)\n",
    "y_pred=SVM_outlier_clf.predict(train_data)\n",
    "y_pred=(y_pred==1)\n",
    "print(matthews_corrcoef(train_label,y_pred))\n",
    "print(classification_report(train_label,y_pred))"
   ]
  },
  {
   "cell_type": "markdown",
   "metadata": {},
   "source": [
    "Based on the result above, outlier detection techniques fail to classify expired patients as outliers, as we observe a negative matthew correlation coefficient for both models. "
   ]
  }
 ],
 "metadata": {
  "kernelspec": {
   "display_name": "base",
   "language": "python",
   "name": "python3"
  },
  "language_info": {
   "codemirror_mode": {
    "name": "ipython",
    "version": 3
   },
   "file_extension": ".py",
   "mimetype": "text/x-python",
   "name": "python",
   "nbconvert_exporter": "python",
   "pygments_lexer": "ipython3",
   "version": "3.8.3"
  }
 },
 "nbformat": 4,
 "nbformat_minor": 2
}
