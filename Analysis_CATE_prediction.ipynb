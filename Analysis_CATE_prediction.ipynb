{
 "cells": [
  {
   "cell_type": "code",
   "execution_count": 8,
   "metadata": {},
   "outputs": [],
   "source": [
    "import numpy as np\n",
    "import pandas as pd\n",
    "from sklearn.linear_model import LogisticRegression\n",
    "from sklearn.decomposition import PCA\n",
    "from sklearn.mixture import BayesianGaussianMixture\n",
    "import matplotlib.pyplot as plt\n",
    "import matplotlib\n",
    "from sklearn.mixture import GaussianMixture as standard_GaussianMixture\n",
    "from scipy.stats import multivariate_normal\n",
    "import argparse\n",
    "from sklearn.manifold import TSNE\n",
    "# import torch\n",
    "from sklearn.neural_network import MLPClassifier\n",
    "import itertools\n",
    "import seaborn as sns\n",
    "import zipfile\n",
    "\n",
    "from sklearn.model_selection import train_test_split\n",
    "from sklearn.tree import DecisionTreeRegressor\n",
    "from econml.dml import CausalForestDML\n",
    "\n",
    "from econml.iv.dml import DMLIV\n",
    "from sklearn.linear_model import Lasso,LassoCV"
   ]
  },
  {
   "cell_type": "code",
   "execution_count": 9,
   "metadata": {},
   "outputs": [],
   "source": [
    "data=pd.read_csv(\"cleaned_data.csv\")\n",
    "data=data.drop(columns=[\"icustay_id\",\"hadm_id\",\"intime\"\t,\"outtime\",\t\"dbsource\",\t\"suspected_infection_time_poe\",\n",
    "\"antibiotic_time_poe\",\"blood_culture_time\",\"gender\",\"ethnicity\",\"icu_los\",\"hosp_los\",\"specimen_poe\",\"first_service\",'subject_id'\n",
    "])\n",
    "\n",
    "\n",
    "data['colloid_bolus']=data[\"colloid_bolus\"].fillna(0)\n",
    "data=data.fillna(data.mean())\n",
    "# infection_specimen=OneHotEncoder().fit_transform(data[\"first_service\"].to_numpy().reshape(-1,1))\n",
    "\n",
    "train_data,test_data=train_test_split(data,test_size=0.2,random_state=505)\n",
    "\n",
    "train_label=train_data[\"thirtyday_expire_flag\"]\n",
    "train_data=train_data.drop(columns=[\"thirtyday_expire_flag\",\"hospital_expire_flag\"])\n",
    "\n",
    "test_label=test_data[\"thirtyday_expire_flag\"]\n",
    "test_data=test_data.drop(columns=[\"thirtyday_expire_flag\",\"hospital_expire_flag\"])"
   ]
  },
  {
   "cell_type": "markdown",
   "metadata": {},
   "source": [
    "# Causal Forest"
   ]
  },
  {
   "cell_type": "code",
   "execution_count": 10,
   "metadata": {},
   "outputs": [],
   "source": [
    "%%capture\n",
    "\n",
    "np.random.seed(505)\n",
    "causal_forest_estimator = CausalForestDML(discrete_treatment=True,discrete_outcome=True,n_estimators =100,cv=3,max_depth=10\n",
    "                    )\n",
    "causal_forest_estimator.fit(train_label,train_data['vent'],\n",
    "                            X=train_data.drop(['vent'],axis=1),inference='auto')"
   ]
  },
  {
   "cell_type": "code",
   "execution_count": 11,
   "metadata": {},
   "outputs": [],
   "source": [
    "HTE_estimate=causal_forest_estimator.effect(X=test_data.drop(['vent'],axis=1), \n",
    "                                T0=np.zeros(test_data.shape[0]),\n",
    "                                T1=np.ones(test_data.shape[0]))"
   ]
  },
  {
   "cell_type": "markdown",
   "metadata": {},
   "source": [
    "# XLearner"
   ]
  },
  {
   "cell_type": "code",
   "execution_count": 16,
   "metadata": {},
   "outputs": [],
   "source": [
    "from econml.metalearners import XLearner\n",
    "from sklearn.ensemble import GradientBoostingRegressor\n"
   ]
  },
  {
   "cell_type": "code",
   "execution_count": 19,
   "metadata": {},
   "outputs": [
    {
     "name": "stderr",
     "output_type": "stream",
     "text": [
      "lbfgs failed to converge (status=1):\n",
      "STOP: TOTAL NO. of ITERATIONS REACHED LIMIT.\n",
      "\n",
      "Increase the number of iterations (max_iter) or scale the data as shown in:\n",
      "    https://scikit-learn.org/stable/modules/preprocessing.html\n",
      "Please also refer to the documentation for alternative solver options:\n",
      "    https://scikit-learn.org/stable/modules/linear_model.html#logistic-regression\n"
     ]
    },
    {
     "data": {
      "text/plain": [
       "<econml.metalearners._metalearners.XLearner at 0x20bdcf88e80>"
      ]
     },
     "execution_count": 19,
     "metadata": {},
     "output_type": "execute_result"
    }
   ],
   "source": [
    "%%capture\n",
    "\n",
    "np.random.seed(505)\n",
    "XLearner_model=XLearner(models=GradientBoostingRegressor(max_depth=5,random_state=505))\n",
    "\n",
    "XLearner_model.fit(Y=train_label, T=train_data['vent'],\n",
    "                    X=train_data.drop(['vent'],axis=1))                    "
   ]
  },
  {
   "cell_type": "markdown",
   "metadata": {},
   "source": [
    "# DRLearner"
   ]
  },
  {
   "cell_type": "code",
   "execution_count": 13,
   "metadata": {},
   "outputs": [],
   "source": [
    "from econml.dr import DRLearner\n",
    "from sklearn.linear_model import LassoCV\n",
    "from sklearn.ensemble import RandomForestClassifier, RandomForestRegressor"
   ]
  },
  {
   "cell_type": "code",
   "execution_count": 15,
   "metadata": {},
   "outputs": [
    {
     "name": "stderr",
     "output_type": "stream",
     "text": [
      "A column-vector y was passed when a 1d array was expected. Please change the shape of y to (n_samples, ), for example using ravel().\n",
      "lbfgs failed to converge (status=1):\n",
      "STOP: TOTAL NO. of ITERATIONS REACHED LIMIT.\n",
      "\n",
      "Increase the number of iterations (max_iter) or scale the data as shown in:\n",
      "    https://scikit-learn.org/stable/modules/preprocessing.html\n",
      "Please also refer to the documentation for alternative solver options:\n",
      "    https://scikit-learn.org/stable/modules/linear_model.html#logistic-regression\n",
      "lbfgs failed to converge (status=1):\n",
      "STOP: TOTAL NO. of ITERATIONS REACHED LIMIT.\n",
      "\n",
      "Increase the number of iterations (max_iter) or scale the data as shown in:\n",
      "    https://scikit-learn.org/stable/modules/preprocessing.html\n",
      "Please also refer to the documentation for alternative solver options:\n",
      "    https://scikit-learn.org/stable/modules/linear_model.html#logistic-regression\n",
      "lbfgs failed to converge (status=1):\n",
      "STOP: TOTAL NO. of ITERATIONS REACHED LIMIT.\n",
      "\n",
      "Increase the number of iterations (max_iter) or scale the data as shown in:\n",
      "    https://scikit-learn.org/stable/modules/preprocessing.html\n",
      "Please also refer to the documentation for alternative solver options:\n",
      "    https://scikit-learn.org/stable/modules/linear_model.html#logistic-regression\n",
      "A column-vector y was passed when a 1d array was expected. Please change the shape of y to (n_samples,), for example using ravel().\n",
      "A column-vector y was passed when a 1d array was expected. Please change the shape of y to (n_samples,), for example using ravel().\n",
      "A column-vector y was passed when a 1d array was expected. Please change the shape of y to (n_samples,), for example using ravel().\n",
      "A column-vector y was passed when a 1d array was expected. Please change the shape of y to (n_samples,), for example using ravel().\n",
      "A column-vector y was passed when a 1d array was expected. Please change the shape of y to (n_samples,), for example using ravel().\n",
      "A column-vector y was passed when a 1d array was expected. Please change the shape of y to (n_samples, ), for example using ravel().\n"
     ]
    },
    {
     "data": {
      "text/plain": [
       "<econml.dr._drlearner.DRLearner at 0x20bdbaba790>"
      ]
     },
     "execution_count": 15,
     "metadata": {},
     "output_type": "execute_result"
    }
   ],
   "source": [
    "%%capture\n",
    "\n",
    "DRLearner_model = DRLearner(model_propensity=RandomForestClassifier(n_estimators=100, min_samples_leaf=10),\n",
    "                model_regression='auto',\n",
    "                model_final=LassoCV(cv=3),random_state=505,discrete_outcome=True,\n",
    "                featurizer=None)\n",
    "DRLearner_model.fit(Y=train_label.ravel(), T=train_data['vent'],\n",
    "                    X=train_data.drop(['vent'],axis=1))\n"
   ]
  }
 ],
 "metadata": {
  "kernelspec": {
   "display_name": "base",
   "language": "python",
   "name": "python3"
  },
  "language_info": {
   "codemirror_mode": {
    "name": "ipython",
    "version": 3
   },
   "file_extension": ".py",
   "mimetype": "text/x-python",
   "name": "python",
   "nbconvert_exporter": "python",
   "pygments_lexer": "ipython3",
   "version": "3.8.3"
  }
 },
 "nbformat": 4,
 "nbformat_minor": 2
}
